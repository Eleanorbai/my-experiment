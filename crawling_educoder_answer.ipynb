{
  "nbformat": 4,
  "nbformat_minor": 0,
  "metadata": {
    "colab": {
      "name": "crawling_educoder_answer.ipynb",
      "provenance": [],
      "authorship_tag": "ABX9TyMCvGW/iBgmNsH0bbPXhNx5",
      "include_colab_link": true
    },
    "kernelspec": {
      "name": "python3",
      "display_name": "Python 3"
    }
  },
  "cells": [
    {
      "cell_type": "markdown",
      "metadata": {
        "id": "view-in-github",
        "colab_type": "text"
      },
      "source": [
        "<a href=\"https://colab.research.google.com/github/Eleanorbai/my-experiment/blob/master/crawling_educoder_answer.ipynb\" target=\"_parent\"><img src=\"https://colab.research.google.com/assets/colab-badge.svg\" alt=\"Open In Colab\"/></a>"
      ]
    },
    {
      "cell_type": "code",
      "metadata": {
        "id": "DHk6vlg3i5sh",
        "colab_type": "code",
        "outputId": "44e688d9-5d55-46ad-a423-298206eeef98",
        "colab": {
          "base_uri": "https://localhost:8080/",
          "height": 547
        }
      },
      "source": [
        "from urllib.request import urlopen\n",
        "\n",
        "# if has Chinese, apply decode()\n",
        "html = urlopen(\n",
        "    \"https://www.educoder.net/tasks/efs832aqxy7l\"\n",
        ").read().decode('utf-8')\n",
        "print(html)"
      ],
      "execution_count": 0,
      "outputs": [
        {
          "output_type": "stream",
          "text": [
            "<!doctype html><html lang=\"en\"><head><meta charset=\"utf-8\"><meta name=\"”Keywords”\" content=\"”EduCoder,信息技术实践教学,精品课程网,慕课MOOC″\"><meta name=\"”Keywords”\" content=\"”实践课程,项目实战,java实训,python实战,人工智能技术,后端开发学习,移动开发入门″\"><meta name=\"”Keywords”\" content=\"”翻转课堂,高效课堂创建,教学模式″\"><meta name=\"”Keywords”\" content=\"”实训项目,python教程,C语言入门,java书,php后端开发,app前端开发,数据库技术″\"><meta name=\"”Keywords”\" content=\"”在线竞赛,计算机应用大赛,编程大赛,大学生计算机设计大赛,全国高校绿色计算机大赛″\"><meta name=\"”Description”\" content=\"”EduCoder是信息技术类实践教学平台。EduCoder涵盖了计算机、大数据、云计算、人工智能、软件工程、物联网等专业课程。超10000个实训案例及22000个技能评测点，建立学、练、评、测一体化实验环境。”\"><meta name=\"”Description”\" content=\"”EduCoder实践课程，旨在于通过企业级实战实训案例，帮助众多程序员提升各项业务能力。解决学生、学员、企业员工等程序设计能力、算法设计能力、问题求解能力、应用开发能力、系统运维能力等。”\"><meta name=\"”Description”\" content=\"”EduCoder翻转课堂教学模式，颠覆了传统教学模式，让教师与学生的关系由“权威”变成了“伙伴”。将学习的主动权转交给学生，使学生可个性化化学，学生的学习主体得到了彰显。”\"><meta name=\"”Description”\" content=\"”EduCoder实训项目为单个知识点关卡实践训练，帮助学生巩固单一弱点，强化学习。\" ”><meta name=\"”Description”\" content=\"”EduCoder实践教学平台，各类大赛为进一步提高各类学生综合运用高级语言程序设计能力，培养创新意识和实践探索精神，发掘优秀软件人才。\" ”><meta name=\"theme-color\" content=\"#000000\"><link rel=\"manifest\" href=\"/react/build/./manifest.json\"><script type=\"text/javascript\">window.__isR = true;\n",
            "      // 不支持ie9 ie10\n",
            "      if (\n",
            "          ( navigator.userAgent.indexOf('MSIE 9') != -1 \n",
            "            || navigator.userAgent.indexOf('MSIE 10') != -1 )\n",
            "          && \n",
            "          location.pathname.indexOf(\"/compatibility\") == -1) {\n",
            "        debugger;\n",
            "        // location.href = './compatibility'\n",
            "        location.href = '/compatibility.html'  \n",
            "      }\n",
            "      // const isMobile = (/android|webos|iphone|ipad|ipod|blackberry|iemobile|opera mini/i.test(navigator.userAgent.toLowerCase()));\n",
            "      const isWeiXin = (/MicroMessenger/i.test(navigator.userAgent.toLowerCase()));\n",
            "      if (isWeiXin) {\n",
            "        document.write('<script type=\"text/javascript\" src=\"/javascripts/wx/jweixin-1.3.0.js\"><\\/script>');\n",
            "      }</script><link rel=\"stylesheet\" href=\"/react/build/css/css_min_all.css?v=1.1.1\"><link rel=\"stylesheet\" href=\"/react/build/css/iconfont.css?v=1.1.1\"><link rel=\"stylesheet\" href=\"https://cdn.bootcss.com/quill/1.3.7/quill.core.min.css\"><style></style><link href=\"/react/build/./static/css/main.ff024623.css\" rel=\"stylesheet\"></head><body><noscript>You need to enable JavaScript to run this app.</noscript><div id=\"md_div\" style=\"display:none\"></div><div id=\"root\" class=\"page -layout-v -fit widthunit\"></div><div id=\"picture_display\" style=\"display:none\"></div>\n",
            "      <script>\n",
            "         (function() {\n",
            "            var _host = '/react/build/'\n",
            "            /**/\n",
            "            if (window.location.host == 'pre-newweb.educoder.net') {\n",
            "                _host = 'https://testali-cdn.educoder.net/react/build/'\n",
            "            } else if (window.location.host == 'www.educoder.net') {\n",
            "                _host = 'https://ali-cdn.educoder.net/react/build/'\n",
            "            }\n",
            "            document.write('<script type=\"text/javascript\" src=\"' + _host + 'js/js_min_all.js\"><\\/script>');\n",
            "            document.write('<script type=\"text/javascript\" src=\"' + _host + 'static/js/main.933658e9.js\"><\\/script>');\n",
            "         })()\n",
            "      </script>\n",
            "    <script>!function(){var t=location.href;\"3007\"===window.location.port?-1!=t.indexOf(\"/tasks/\")?(document.write('<script type=\"text/javascript\" src=\"https://newweb.educoder.net/assets/kindeditor/kindeditor.js\"><\\/script>'),document.write('<script type=\"text/javascript\" src=\"/react/build/js/create_kindeditor.js?v=1.1.1\"><\\/script>'),document.write('<script type=\"text/javascript\" src=\"https://newweb.educoder.net/javascripts/educoder/edu_application.js\"><\\/script>')):-1!=t.indexOf(\"/paths/\")&&document.write('<script type=\"text/javascript\" src=\"https://newweb.educoder.net/javascripts/educoder/edu_application.js\"><\\/script>'):-1!=t.indexOf(\"/tasks/\")?(document.write('<script type=\"text/javascript\" src=\"/assets/kindeditor/kindeditor.js\"><\\/script>'),document.write('<script type=\"text/javascript\" src=\"/react/build/js/create_kindeditor.js?v=1.1.1\"><\\/script>'),document.write('<script type=\"text/javascript\" src=\"/javascripts/educoder/edu_application.js\"><\\/script>')):-1!=t.indexOf(\"/paths/\")&&document.write('<script type=\"text/javascript\" src=\"/javascripts/educoder/edu_application.js\"><\\/script>')}()</script><script type=\"text/javascript\" src=\"https://cdn.bootcss.com/quill/1.3.7/quill.core.min.js\"></script></body></html>\n"
          ],
          "name": "stdout"
        }
      ]
    },
    {
      "cell_type": "code",
      "metadata": {
        "id": "1GIxKgSSJp31",
        "colab_type": "code",
        "outputId": "411751cb-dd12-439d-d8ad-221bdd66b4ee",
        "colab": {
          "base_uri": "https://localhost:8080/",
          "height": 54
        }
      },
      "source": [
        "from urllib.request import urlopen\n",
        "\n",
        "# if has Chinese, apply decode()\n",
        "html = urlopen(\n",
        "    \"https://rules.sonarsource.com/cpp/type/Bug/RSPEC-5489.html\"\n",
        ").read().decode('utf-8')\n",
        "print(html)"
      ],
      "execution_count": 0,
      "outputs": [
        {
          "output_type": "stream",
          "text": [
            "<!doctype html><html lang=\"en\"><head><meta charset=\"utf-8\"><meta name=\"viewport\" content=\"width=device-width,initial-scale=1,shrink-to-fit=no\"><meta name=\"theme-color\" content=\"#000000\"><link rel=\"manifest\" href=\"/manifest.json\"><link rel=\"shortcut icon\" href=\"/favicon.ico\"><title>Rules explorer</title><script>!function(e,t,a,n,g){e[n]=e[n]||[],e[n].push({\"gtm.start\":(new Date).getTime(),event:\"gtm.js\"});var m=t.getElementsByTagName(a)[0],r=t.createElement(a);r.async=!0,r.src=\"https://www.googletagmanager.com/gtm.js?id=GTM-56V34P9\",m.parentNode.insertBefore(r,m)}(window,document,\"script\",\"dataLayer\")</script><link href=\"/static/css/30.e69c607b.chunk.css\" rel=\"stylesheet\"></head><body><noscript><iframe title=\"tag manager\" src=\"https://www.googletagmanager.com/ns.html?id=GTM-56V34P9\" height=\"0\" width=\"0\" style=\"display:none;visibility:hidden\"></iframe></noscript><noscript>You need to enable JavaScript to run this app.</noscript><div id=\"root\"></div><script>!function(i){function e(e){for(var t,r,n=e[0],o=e[1],a=e[2],c=0,u=[];c<n.length;c++)r=n[c],l[r]&&u.push(l[r][0]),l[r]=0;for(t in o)Object.prototype.hasOwnProperty.call(o,t)&&(i[t]=o[t]);for(s&&s(e);u.length;)u.shift()();return d.push.apply(d,a||[]),f()}function f(){for(var e,t=0;t<d.length;t++){for(var r=d[t],n=!0,o=1;o<r.length;o++){var a=r[o];0!==l[a]&&(n=!1)}n&&(d.splice(t--,1),e=p(p.s=r[0]))}return e}var r={},l={31:0},d=[];function p(e){if(r[e])return r[e].exports;var t=r[e]={i:e,l:!1,exports:{}};return i[e].call(t.exports,t,t.exports,p),t.l=!0,t.exports}p.e=function(a){var e=[],r=l[a];if(0!==r)if(r)e.push(r[2]);else{var t=new Promise(function(e,t){r=l[a]=[e,t]});e.push(r[2]=t);var n,o=document.getElementsByTagName(\"head\")[0],c=document.createElement(\"script\");c.charset=\"utf-8\",c.timeout=120,p.nc&&c.setAttribute(\"nonce\",p.nc),c.src=p.p+\"static/js/\"+({}[a]||a)+\".\"+{0:\"bdccb08a\",1:\"d17b2adf\",2:\"d16c1955\",3:\"8e73d12d\",4:\"9eb8d7de\",5:\"f863d326\",6:\"d456e7a9\",7:\"00e28cd0\",8:\"f7202fc9\",9:\"495a9076\",10:\"6da17eca\",11:\"0be5be55\",12:\"8daa816e\",13:\"bca7f252\",14:\"ecee98e2\",15:\"ed4f40bb\",16:\"7b362e56\",17:\"18950565\",18:\"4deae21b\",19:\"6183be0c\",20:\"478b81f3\",21:\"e79ba6a7\",22:\"cb88691e\",23:\"d6e073c9\",24:\"4ff53346\",25:\"104072ce\",26:\"f8036d9f\",27:\"176115b3\",28:\"98c8ea2e\"}[a]+\".chunk.js\",n=function(e){c.onerror=c.onload=null,clearTimeout(u);var t=l[a];if(0!==t){if(t){var r=e&&(\"load\"===e.type?\"missing\":e.type),n=e&&e.target&&e.target.src,o=new Error(\"Loading chunk \"+a+\" failed.\\n(\"+r+\": \"+n+\")\");o.type=r,o.request=n,t[1](o)}l[a]=void 0}};var u=setTimeout(function(){n({type:\"timeout\",target:c})},12e4);c.onerror=c.onload=n,o.appendChild(c)}return Promise.all(e)},p.m=i,p.c=r,p.d=function(e,t,r){p.o(e,t)||Object.defineProperty(e,t,{enumerable:!0,get:r})},p.r=function(e){\"undefined\"!=typeof Symbol&&Symbol.toStringTag&&Object.defineProperty(e,Symbol.toStringTag,{value:\"Module\"}),Object.defineProperty(e,\"__esModule\",{value:!0})},p.t=function(t,e){if(1&e&&(t=p(t)),8&e)return t;if(4&e&&\"object\"==typeof t&&t&&t.__esModule)return t;var r=Object.create(null);if(p.r(r),Object.defineProperty(r,\"default\",{enumerable:!0,value:t}),2&e&&\"string\"!=typeof t)for(var n in t)p.d(r,n,function(e){return t[e]}.bind(null,n));return r},p.n=function(e){var t=e&&e.__esModule?function(){return e.default}:function(){return e};return p.d(t,\"a\",t),t},p.o=function(e,t){return Object.prototype.hasOwnProperty.call(e,t)},p.p=\"/\",p.oe=function(e){throw console.error(e),e};var t=window.webpackJsonp=window.webpackJsonp||[],n=t.push.bind(t);t.push=e,t=t.slice();for(var o=0;o<t.length;o++)e(t[o]);var s=n;f()}([])</script><script src=\"/static/js/30.e3413af3.chunk.js\"></script><script src=\"/static/js/main.e71ff32b.chunk.js\"></script></body></html>\n"
          ],
          "name": "stdout"
        }
      ]
    },
    {
      "cell_type": "code",
      "metadata": {
        "id": "BgPLUrTFQsEN",
        "colab_type": "code",
        "outputId": "43d8b020-9c17-4aba-9cd6-87961a8f4106",
        "colab": {
          "base_uri": "https://localhost:8080/",
          "height": 122
        }
      },
      "source": [
        "from google.colab import drive\n",
        "drive.mount('/content/drive')"
      ],
      "execution_count": 3,
      "outputs": [
        {
          "output_type": "stream",
          "text": [
            "Go to this URL in a browser: https://accounts.google.com/o/oauth2/auth?client_id=947318989803-6bn6qk8qdgf4n4g3pfee6491hc0brc4i.apps.googleusercontent.com&redirect_uri=urn%3aietf%3awg%3aoauth%3a2.0%3aoob&response_type=code&scope=email%20https%3a%2f%2fwww.googleapis.com%2fauth%2fdocs.test%20https%3a%2f%2fwww.googleapis.com%2fauth%2fdrive%20https%3a%2f%2fwww.googleapis.com%2fauth%2fdrive.photos.readonly%20https%3a%2f%2fwww.googleapis.com%2fauth%2fpeopleapi.readonly\n",
            "\n",
            "Enter your authorization code:\n",
            "··········\n",
            "Mounted at /content/drive\n"
          ],
          "name": "stdout"
        }
      ]
    },
    {
      "cell_type": "code",
      "metadata": {
        "id": "2C0De2RmQ_h8",
        "colab_type": "code",
        "outputId": "7b4deb90-4b42-4906-aa19-22f565d44a2d",
        "colab": {
          "base_uri": "https://localhost:8080/",
          "height": 204
        }
      },
      "source": [
        "!ls '/content/drive/My Drive/实验/知识点'"
      ],
      "execution_count": 18,
      "outputs": [
        {
          "output_type": "stream",
          "text": [
            " c_c++_rules.txt\t\t\t        delete_duplication_words.py\n",
            " challenge_answer.csv\t\t\t        extract_keywords.py\n",
            " challenge_answer.gsheet\t\t       'str_text (1).gdoc'\n",
            " crawling_educoder_answer.ipynb\t\t        str_text.gdoc\n",
            " c++rules.gsheet\t\t\t        str_text.txt\n",
            " c++_rule.xls\t\t\t\t        temp.csv\n",
            " c++知识点.gsheet\t\t\t        test.csv\n",
            " c++知识点关系映射.gsheet\t\t        test.xls\n",
            " c++知识点关系映射（可自动识别知识点）.gsheet   知识点位置序列.gsheet\n",
            " delete_duplication_words_out_map.csv\t        简历.gdoc\n",
            " delete_duplication_words_out_map.gsheet\n"
          ],
          "name": "stdout"
        }
      ]
    },
    {
      "cell_type": "code",
      "metadata": {
        "id": "UKJla9mSm3ME",
        "colab_type": "code",
        "outputId": "5bd4a2e7-1709-4128-9a2f-111bd58fa382",
        "colab": {
          "base_uri": "https://localhost:8080/",
          "height": 71
        }
      },
      "source": [
        "# （小数据测试）把 c++ rules 以 \"{summary\" 为标记，分段\n",
        "import re\n",
        "\n",
        "f = open(\"/content/drive/My Drive/实验/知识点/str_text.txt\")\n",
        "lines = f.read()\n",
        "print (lines)\n",
        "\n",
        "pattern = \"{summary\"\n",
        "\n",
        "x = re.finditer(pattern,lines)\n",
        "#print (x)\n",
        "\n",
        "all_index = []\n",
        "\n",
        "for i in x:\n",
        "    #print(i)\n",
        "    index = i.span()\n",
        "    #print (index)\n",
        "    #print (index[0])\n",
        "    all_index.append(index[0])\n",
        "\n",
        "print (all_index)\n",
        "\n",
        "\n",
        "#print(type(lines))\n",
        "f.close()"
      ],
      "execution_count": 15,
      "outputs": [
        {
          "output_type": "stream",
          "text": [
            "{summary:\"RAII objects should not be temporary\",type:\"Vulnerability\",defaultSeverity:\"Blocker\",inDefaultProfile:!0,availability:[\"sonarcloud\",\"sonarlint\",\"sonarqube\"],ruleKey:\"RSPEC-5184\",tags:[\"suspicious\"],description:'<p>The RAII idiom associates the lifetime of a resource with the lifetime of an object: The resource is acquired when the object is created, and\\nreleased when it is destroyed.</p>\\n<p>If the object that controls the resource lifetime is a temporary, chances are that it will get destroyed while the resource should still be in use,\\nleading to resource corruption. This rules detects temporaries that look like RAII objects.</p>\\n<h2>Noncompliant Code Example</h2>\\n<pre>\\nvoid f() {\\n  scoped_lock{myMutex}; // Non compliant. The mutex will be locked then immediately unlocked\\n  protectedCode(); // This code is not protected by the mutex\\n}\\n</pre>\\n<h2>Compliant Solution</h2>\\n<pre>\\nvoid f() {\\n  scoped_lock lock{myMutex}; // Compliant\\n  protectedCode();\\n  // The mutex is correctly released at this point\\n}\\n</pre>\\n<h2>See</h2>\\n<ul>\\n  <li> <a\\n  href=\"https://github.com/isocpp/CppCoreGuidelines/blob/036324/CppCoreGuidelines.md#es84-dont-try-to-declare-a-local-variable-with-no-name\">C++ Core\\n  Guidelines ES.84</a> - Don\\u2019t (try to) declare a local variable with no name </li>\\n</ul>\\n\\n'},{summary:\"Function-like macros should not be invoked without all of their arguments\",type:\"Bug\",defaultSeverity:\"Blocker\",inDefaultProfile:!0,availability:[\"sonarcloud\",\"sonarlint\",\"sonarqube\"],ruleKey:\"RSPEC-961\",tags:[\"cwe\",\"based-on-misra\",\"preprocessor\"],description:'<p>This is a constraint error, but preprocessors have been known to ignore this problem. Each argument in a function-like macro must consist of at\\nleast one preprocessing token otherwise the behaviour is undefined.</p>\\n<h2>See</h2>\\n<ul>\\n  <li> MISRA C:2004, 19.8 - A function-like macro shall not be invoked without all of its arguments. </li>\\n  <li> <a href=\"http://cwe.mitre.org/data/definitions/628.html\">MITRE, CWE-628</a> - Function Call with Incorrectly Specified Arguments </li>\\n</ul>\\n\\n'}\n",
            "[0, 1333]\n"
          ],
          "name": "stdout"
        }
      ]
    },
    {
      "cell_type": "code",
      "metadata": {
        "id": "vUnpHE3hh9FI",
        "colab_type": "code",
        "colab": {
          "base_uri": "https://localhost:8080/",
          "height": 88
        },
        "outputId": "d0980701-2042-452e-f4d2-520727faa6fd"
      },
      "source": [
        "# 把 c++ rules 以 \"{summary\" 为标记，分段\n",
        "import re\n",
        "\n",
        "f = open(\"/content/drive/My Drive/实验/知识点/c_c++_rules.txt\")\n",
        "lines = f.read()\n",
        "#print (lines)\n",
        "\n",
        "pattern = \"{summary\"\n",
        "\n",
        "# 在 lines 中找 pattern 为 {summary 的字符串，返回对象\n",
        "x = re.finditer(pattern,lines)\n",
        "print (x)\n",
        "\n",
        "all_index = []\n",
        "\n",
        "for i in x:\n",
        "    index = i.span()\n",
        "    all_index.append(index[0])\n",
        "print (all_index)\n",
        "print (len(all_index))\n",
        "\n",
        "\n",
        "#print(type(lines))\n",
        "f.close()"
      ],
      "execution_count": 24,
      "outputs": [
        {
          "output_type": "stream",
          "text": [
            "<callable_iterator object at 0x7ffb14e577b8>\n",
            "[0, 1333, 2109, 3893, 6682, 8293, 12502, 13516, 15951, 17558, 18944, 20572, 21738, 22648, 24345, 25665, 27082, 28858, 30830, 32072, 33682, 35413, 37041, 37924, 39400, 40810, 43364, 44810, 46266, 49248, 50379, 51110, 52451, 54571, 56549, 59583, 61473, 63219, 64034, 66805, 67937, 71020, 72121, 74601, 76267, 77777, 79392, 80797, 82177, 87280, 90748, 91997, 92769, 95277, 96524, 97876, 99349, 100229, 101756, 102912, 103665, 104703, 105428, 107220, 108716, 110046, 112109, 114639, 116873, 119849, 121352, 122681, 124423, 126013, 126786, 127300, 128367, 129173, 130116, 131366, 134153, 135812, 137375, 138825, 142131, 143117, 144195, 144758, 147800, 150421, 152026, 154531, 157084, 157888, 159095, 159722, 161024, 161780, 162459, 163844, 167324, 170479, 172659, 175042, 176622, 177840, 179520, 181806, 183211, 184188, 185284, 186526, 187664, 188998, 190669, 191711, 192640, 193723, 196064, 197898, 198774, 199264, 200334, 201129, 202387, 203067, 203936, 205425, 205997, 206743, 207935, 208965, 210102, 211651, 213262, 214480, 215124, 216450, 218062, 219587, 220944, 221950, 222780, 224144, 225773, 227149, 228486, 229746, 231342, 231968, 233070, 233910, 236006, 237911, 239032, 240361, 242341, 244454, 245627, 247755, 249120, 251135, 252609, 253965, 257038, 258250, 259158, 260257, 261946, 262550, 263991, 266313, 268509, 269343, 270838, 271390, 272116, 273142, 275007, 276619, 277341, 278610, 279659, 283134, 284165, 285994, 286778, 288465, 289603, 290711, 291546, 294764, 297019, 298586, 299268, 300495, 300974, 301483, 302327, 304824, 306724, 308914, 310246, 311560, 312662, 313811, 314675, 315698, 317278, 318527, 321040, 322244, 323040, 323989, 324943, 325745, 326315, 327231, 328561, 330301, 330906, 332149, 333696, 334460, 335924, 336562, 338351, 339764, 340504, 341639, 342522, 343752, 344421, 345667, 346748, 347868, 348789, 350071, 351026, 351894, 353244, 354205, 355129, 355779, 356950, 358112, 358848, 360513, 361597, 362531, 363477, 363874, 364404, 365758, 366526, 367299, 368281, 368902, 369814, 371283, 372113, 373154, 373765, 375018, 376357, 378474, 380122, 380883, 381515, 382600, 385328, 385942, 388394, 390331, 392400, 394846, 395698, 396694, 398101, 399470, 400756, 402048, 403346, 403975, 405812, 407989, 410937, 411855, 412713, 413976, 416293, 418227, 420200, 422364, 423829, 425709, 428147, 429957, 430344, 433002, 434326, 436007, 439213, 440335, 441613, 442960, 443785, 444172, 445925, 446412, 448424, 449128, 450896, 451736, 452633, 453246, 453898, 455438, 456553, 458483, 460624, 464298, 466355, 467402, 469230, 470145, 470967, 472366, 473436, 475510, 476260, 477087, 478214, 478933, 481227, 482283, 484910, 486573, 489742, 492121, 493897, 494602, 495188, 496461, 497584, 498825, 499957, 501366, 504683, 507293, 508289, 508923, 509648, 510395, 511958, 513072, 514176, 516041, 517442, 517875, 518310, 518946, 519901, 521993, 522900, 523553, 524058, 524940, 526732, 527376, 528463, 528985, 530128, 530883, 532481, 533094, 533424, 534906, 536074, 537015, 537581, 538498, 539817, 540690, 541605, 543088, 543941, 544758, 547081, 548197, 549176, 550147, 550934, 551778, 552665, 553601, 554405, 555458, 556406, 557250, 557828, 558781, 560094, 562488, 564226, 565093, 565748, 567285, 569398, 570352, 570978, 571616, 572267, 573371, 574331, 575151, 575835, 576749, 577689, 578738, 579963, 580672, 581869, 582645, 583326, 583988, 584574, 585643, 586432, 587341, 588195, 588872, 589435, 589960, 590372, 591257, 592339, 592957, 593589]\n",
            "439\n"
          ],
          "name": "stdout"
        }
      ]
    },
    {
      "cell_type": "code",
      "metadata": {
        "id": "LH1DWVx3LH9-",
        "colab_type": "code",
        "colab": {
          "base_uri": "https://localhost:8080/",
          "height": 122
        },
        "outputId": "b02b4ef6-abb6-432a-fbd7-6768ab57e92f"
      },
      "source": [
        "print(lines[0:1333])\n",
        "print(lines[1332])\n",
        "list = [\"a\",\"b\",\"c\"]\n",
        "for i in list:\n",
        "    print(i)\n"
      ],
      "execution_count": 17,
      "outputs": [
        {
          "output_type": "stream",
          "text": [
            "{summary:\"RAII objects should not be temporary\",type:\"Vulnerability\",defaultSeverity:\"Blocker\",inDefaultProfile:!0,availability:[\"sonarcloud\",\"sonarlint\",\"sonarqube\"],ruleKey:\"RSPEC-5184\",tags:[\"suspicious\"],description:'<p>The RAII idiom associates the lifetime of a resource with the lifetime of an object: The resource is acquired when the object is created, and\\nreleased when it is destroyed.</p>\\n<p>If the object that controls the resource lifetime is a temporary, chances are that it will get destroyed while the resource should still be in use,\\nleading to resource corruption. This rules detects temporaries that look like RAII objects.</p>\\n<h2>Noncompliant Code Example</h2>\\n<pre>\\nvoid f() {\\n  scoped_lock{myMutex}; // Non compliant. The mutex will be locked then immediately unlocked\\n  protectedCode(); // This code is not protected by the mutex\\n}\\n</pre>\\n<h2>Compliant Solution</h2>\\n<pre>\\nvoid f() {\\n  scoped_lock lock{myMutex}; // Compliant\\n  protectedCode();\\n  // The mutex is correctly released at this point\\n}\\n</pre>\\n<h2>See</h2>\\n<ul>\\n  <li> <a\\n  href=\"https://github.com/isocpp/CppCoreGuidelines/blob/036324/CppCoreGuidelines.md#es84-dont-try-to-declare-a-local-variable-with-no-name\">C++ Core\\n  Guidelines ES.84</a> - Don\\u2019t (try to) declare a local variable with no name </li>\\n</ul>\\n\\n'},\n",
            ",\n",
            "a\n",
            "b\n",
            "c\n"
          ],
          "name": "stdout"
        }
      ]
    },
    {
      "cell_type": "code",
      "metadata": {
        "id": "5hN0khWKLHx8",
        "colab_type": "code",
        "colab": {}
      },
      "source": [
        "# 把 c++ rules 分段写入 excel\n",
        "#引入xlwt模块（提前pip下载好）\n",
        "import xlwt\n",
        "\n",
        "#使用workbook方法，创建一个新的工作簿\n",
        "book = xlwt.Workbook(encoding='utf-8',style_compression=0)\n",
        "\n",
        "#添加一个sheet，名字为C++_rules，参数overwrite就是说可不可以重复写入值，就是当单元格已经非空，你还要写入\n",
        "sheet = book.add_sheet('C++_rules',cell_overwrite_ok=True)\n",
        "\n",
        "#接着就是给指定的单元格写入数据了\n",
        "# lines[all_index[i]:all_index[i+1]] 为该写入的列数据\n",
        "for i in range(0,438):\n",
        "\t\tsheet.write(i,0,lines[all_index[i]:all_index[i+1]])\n",
        "\n",
        "\n",
        "#记住要保存\n",
        "book.save('/content/drive/My Drive/实验/知识点/c++_rule.xls')"
      ],
      "execution_count": 0,
      "outputs": []
    },
    {
      "cell_type": "code",
      "metadata": {
        "id": "XM6zswMWWtUI",
        "colab_type": "code",
        "colab": {
          "base_uri": "https://localhost:8080/",
          "height": 71
        },
        "outputId": "cf6c180b-7f94-4a52-8743-57c59aa6875f"
      },
      "source": [
        "import xlwt\n",
        "import xlrd\n",
        "import re\n",
        "\n",
        "workbook = xlrd.open_workbook('/content/drive/My Drive/实验/知识点/c++_rule.xls')\n",
        "# sheet.nrows：sheet的行数\n",
        "print (sheet.nrows)\n",
        "# workbook.sheet_by_index(...)    #通过index来获得一个sheet对象，index从0开始算起\n",
        "for j in sheet.nrows:\n",
        "    sheet = workbook.sheet_by_index(j)\n",
        "    pattern1 = \"{summary\"\n",
        "    pattern2 = \",type\"\n",
        "    # sheet.row_values(index)：返回某一行的值列表\n",
        "    # 在 sheet.row_values(j) 中找 pattern 为 {summary 的字符串，返回对象\n",
        "    y = re.finditer(pattern1,sheet.row_values(j))\n",
        "    z = \n",
        "\n",
        "# 在得到sheet对象之后，就可以用它的一些方法和变量来获取数据：\n",
        "# sheet.row_values(index)：返回某一行的值列表\n",
        "print (sheet.row_values(0))"
      ],
      "execution_count": 23,
      "outputs": [
        {
          "output_type": "stream",
          "text": [
            "438\n",
            "['{summary:\"RAII objects should not be temporary\",type:\"Vulnerability\",defaultSeverity:\"Blocker\",inDefaultProfile:!0,availability:[\"sonarcloud\",\"sonarlint\",\"sonarqube\"],ruleKey:\"RSPEC-5184\",tags:[\"suspicious\"],description:\\'<p>The RAII idiom associates the lifetime of a resource with the lifetime of an object: The resource is acquired when the object is created, and\\\\nreleased when it is destroyed.</p>\\\\n<p>If the object that controls the resource lifetime is a temporary, chances are that it will get destroyed while the resource should still be in use,\\\\nleading to resource corruption. This rules detects temporaries that look like RAII objects.</p>\\\\n<h2>Noncompliant Code Example</h2>\\\\n<pre>\\\\nvoid f() {\\\\n  scoped_lock{myMutex}; // Non compliant. The mutex will be locked then immediately unlocked\\\\n  protectedCode(); // This code is not protected by the mutex\\\\n}\\\\n</pre>\\\\n<h2>Compliant Solution</h2>\\\\n<pre>\\\\nvoid f() {\\\\n  scoped_lock lock{myMutex}; // Compliant\\\\n  protectedCode();\\\\n  // The mutex is correctly released at this point\\\\n}\\\\n</pre>\\\\n<h2>See</h2>\\\\n<ul>\\\\n  <li> <a\\\\n  href=\"https://github.com/isocpp/CppCoreGuidelines/blob/036324/CppCoreGuidelines.md#es84-dont-try-to-declare-a-local-variable-with-no-name\">C++ Core\\\\n  Guidelines ES.84</a> - Don\\\\u2019t (try to) declare a local variable with no name </li>\\\\n</ul>\\\\n\\\\n\\'},']\n"
          ],
          "name": "stdout"
        }
      ]
    },
    {
      "cell_type": "code",
      "metadata": {
        "id": "9ikax2WmKisl",
        "colab_type": "code",
        "colab": {}
      },
      "source": [
        "# 建立 excel，字段分别为 \"summary\"，\"type\"，\"defaultSeverity\"，\"inDefaultProfile\"，\"availability\"，\"ruleKey\"，\"tags\"，\"description\"\n",
        "#引入xlwt模块（提前pip下载好）\n",
        "import xlwt\n",
        "\n",
        "#使用workbook方法，创建一个新的工作簿\n",
        "book2 = xlwt.Workbook(encoding='utf-8',style_compression=0)\n",
        "\n",
        "#添加一个sheet，名字为 C++_rules_opt，参数overwrite就是说可不可以重复写入值，就是当单元格已经非空，你还要写入\n",
        "sheet2 = book2.add_sheet('C++_rules_opt',cell_overwrite_ok=True)\n",
        "\n",
        "#接着就是给指定的单元格写入数据了\n",
        "# lines[all_index[i]:all_index[i+1]] 为该写入的列数据\n",
        "# for i in range(0,438):\n",
        "# \t\tsheet.write(i,0,lines[all_index[i]:all_index[i+1]])\n",
        "row0 = [\"summary\",\"type\",\"defaultSeverity\",\"inDefaultProfile\",\"availability\",\"ruleKey\",\"tags\",\"description\"]\n",
        "\n",
        "\n",
        "#记住要保存\n",
        "book2.save('/content/drive/My Drive/实验/知识点/c++_rule_opt.xls')"
      ],
      "execution_count": 0,
      "outputs": []
    },
    {
      "cell_type": "code",
      "metadata": {
        "id": "WIS5yT7rJmfp",
        "colab_type": "code",
        "colab": {}
      },
      "source": [
        "# 把 c++ rules 以 \"{summary\" 为标记，分段\n",
        "import re\n",
        "\n",
        "f = open(\"/content/drive/My Drive/实验/知识点/c_c++_rules.txt\")\n",
        "lines = f.read()\n",
        "#print (lines)\n",
        "\n",
        "pattern = \"{summary\"\n",
        "\n",
        "# 在 lines 中找 pattern 为 {summary 的字符串，返回对象\n",
        "x = re.finditer(pattern,lines)\n",
        "#print (x)\n",
        "\n",
        "all_index = []\n",
        "\n",
        "for i in x:\n",
        "    index = i.span()\n",
        "    all_index.append(index[0])\n",
        "print (all_index)\n",
        "print (len(all_index))\n",
        "\n",
        "\n",
        "#print(type(lines))\n",
        "f.close()"
      ],
      "execution_count": 0,
      "outputs": []
    }
  ]
}